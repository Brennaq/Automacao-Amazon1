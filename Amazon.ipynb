{
 "cells": [
  {
   "cell_type": "code",
   "execution_count": 1,
   "metadata": {},
   "outputs": [],
   "source": [
    "from selenium import webdriver\n",
    "from selenium.webdriver.common.by import By\n",
    "from time import sleep\n",
    "from selenium.webdriver.common.action_chains import ActionChains"
   ]
  },
  {
   "cell_type": "markdown",
   "metadata": {},
   "source": [
    "# Abri menu e clica em produtos em alta"
   ]
  },
  {
   "cell_type": "code",
   "execution_count": 2,
   "metadata": {},
   "outputs": [],
   "source": [
    "driver = webdriver.Chrome()\n",
    "driver.maximize_window()  # Maximiza a janela\n",
    "driver.get('https://www.amazon.com.br/')"
   ]
  },
  {
   "cell_type": "code",
   "execution_count": 3,
   "metadata": {},
   "outputs": [],
   "source": [
    "menu = driver.find_element(By.XPATH, '//a[@id=\"nav-hamburger-menu\"]')\n",
    "menu.click()"
   ]
  },
  {
   "cell_type": "code",
   "execution_count": 4,
   "metadata": {},
   "outputs": [],
   "source": [
    "prod_alta = driver.find_element(By.XPATH, '//a[@class=\"hmenu-item\" and text()=\"Produtos em alta\"]' )\n",
    "prod_alta.click()"
   ]
  },
  {
   "cell_type": "markdown",
   "metadata": {},
   "source": [
    "# Scrollando a página para que os carrosséis apareçam"
   ]
  },
  {
   "cell_type": "code",
   "execution_count": 5,
   "metadata": {},
   "outputs": [],
   "source": [
    "carrosseis = driver.find_elements(By.XPATH, '//div[contains(@id, \"anonCarousel\")]')\n",
    "\n",
    "i = 0\n",
    "while i < len(carrosseis):\n",
    "    carrossel = carrosseis [i]\n",
    "    action = ActionChains(driver)\n",
    "    action.scroll_to_element(carrossel)\n",
    "    action.perform()\n",
    "    sleep(1)\n",
    "    carrosseis = driver.find_elements(By.XPATH, '//div[contains(@id, \"anonCarousel\")]')\n",
    "    i += 1"
   ]
  },
  {
   "cell_type": "markdown",
   "metadata": {},
   "source": [
    "# Pegando titulo e cards de todos os carrosséis"
   ]
  },
  {
   "cell_type": "code",
   "execution_count": null,
   "metadata": {},
   "outputs": [],
   "source": [
    "titulos = driver.find_elements(By.XPATH, '//h2[@class=\"a-carousel-heading a-inline-block\"]')\n",
    "titulos = [t.text.replace('Produtos em alta em', '') for t in titulos]\n",
    "titulos"
   ]
  },
  {
   "cell_type": "markdown",
   "metadata": {},
   "source": [
    "# Pegando todos os cards do carrossel"
   ]
  },
  {
   "cell_type": "code",
   "execution_count": null,
   "metadata": {},
   "outputs": [],
   "source": [
    "carrosseis = driver.find_elements(By.XPATH, '//div[contains(@id, \"anonCarousel\")]')\n",
    "carrossel = carrosseis [0]\n",
    "\n",
    "for i in range(len(carrosseis)):\n",
    "    print ('==========', titulos[i], '==========')\n",
    "    carrossel = carrosseis [i]\n",
    "    while True:\n",
    "        xpath = './/li[@class=\"a-carousel-card\"]'\n",
    "        cards = carrossel.find_elements(By.XPATH, xpath)\n",
    "        for card in cards:\n",
    "            sales_mov = card.find_element(By.XPATH,'.//span[contains(@class, \"sales-movement\")]')\n",
    "            nome_prod = card.find_element(By.XPATH, './/a[@class = \"a-link-normal\"]/span/div')\n",
    "            print(sales_mov.text, nome_prod.text)\n",
    "        posinset = cards[-1].get_attribute('aria-posinset')\n",
    "        setsize = cards[-1].get_attribute('aria-setsize')\n",
    "        if posinset == setsize:\n",
    "            break\n",
    "        else:\n",
    "            xpath = './../..//a[@class=\"a-button a-button-image a-carousel-button a-carousel-goto-nextpage\"]'\n",
    "            next_pag = carrossel.find_element(By.XPATH, xpath)\n",
    "            next_pag.click()\n",
    "            sleep(1)\n",
    "    carrosseis = driver.find_elements(By.XPATH, '//div[contains(@id, \"anonCarousel\")]')\n"
   ]
  }
 ],
 "metadata": {
  "kernelspec": {
   "display_name": "Python 3",
   "language": "python",
   "name": "python3"
  },
  "language_info": {
   "codemirror_mode": {
    "name": "ipython",
    "version": 3
   },
   "file_extension": ".py",
   "mimetype": "text/x-python",
   "name": "python",
   "nbconvert_exporter": "python",
   "pygments_lexer": "ipython3",
   "version": "3.12.4"
  }
 },
 "nbformat": 4,
 "nbformat_minor": 2
}
